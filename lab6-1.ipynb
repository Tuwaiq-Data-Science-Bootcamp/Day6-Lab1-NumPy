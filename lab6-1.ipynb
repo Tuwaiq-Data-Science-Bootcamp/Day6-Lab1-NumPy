{
 "cells": [
  {
   "cell_type": "code",
   "execution_count": 12,
   "id": "4730a158-7e7e-45eb-bb69-d6f524485cca",
   "metadata": {},
   "outputs": [
    {
     "name": "stdout",
     "output_type": "stream",
     "text": [
      "[[1 1 1]\n",
      " [1 1 1]\n",
      " [1 1 1]]\n"
     ]
    }
   ],
   "source": [
    "#1: Create x array with elements equal to 1.\n",
    "import numpy as np\n",
    "x=np.ones((3,3),dtype=int)\n",
    "print(x)"
   ]
  },
  {
   "cell_type": "code",
   "execution_count": 11,
   "id": "6e9de68c-43b5-46f7-b00e-7e913ee655d8",
   "metadata": {},
   "outputs": [
    {
     "name": "stdout",
     "output_type": "stream",
     "text": [
      "[[0 0 0]\n",
      " [0 0 0]\n",
      " [0 0 0]]\n"
     ]
    }
   ],
   "source": [
    "#2: Create y array with elements equal to 0.\n",
    "y=np.zeros((3,3),dtype=int)\n",
    "print(y)"
   ]
  },
  {
   "cell_type": "code",
   "execution_count": 29,
   "id": "ab10561f-af4b-4e27-9e8f-ce9dfd17ba2b",
   "metadata": {},
   "outputs": [
    {
     "name": "stdout",
     "output_type": "stream",
     "text": [
      "items size: 6\n"
     ]
    },
    {
     "data": {
      "text/plain": [
       "(2, 3)"
      ]
     },
     "execution_count": 29,
     "metadata": {},
     "output_type": "execute_result"
    }
   ],
   "source": [
    "#4 Print x array characteristics (e.g: dimension, shape, size, type)\n",
    "\n",
    "\n",
    "x= np.array([[1,2,3],[4,5,6]])\n",
    "print('items size:', x.size)\n",
    "\n",
    "x.ndim\n",
    "x.shape"
   ]
  },
  {
   "cell_type": "code",
   "execution_count": 67,
   "id": "63ab5ee6-9192-4ba1-a220-9b78ceffe913",
   "metadata": {},
   "outputs": [
    {
     "name": "stdout",
     "output_type": "stream",
     "text": [
      "[[11 12]\n",
      " [13 14]\n",
      " [15 16]]\n"
     ]
    },
    {
     "data": {
      "text/plain": [
       "2"
      ]
     },
     "execution_count": 67,
     "metadata": {},
     "output_type": "execute_result"
    }
   ],
   "source": [
    "#5: Create a 2D array \"called w\" as the following:\n",
    "w= np.array([[11,12],[13,14],[15,16]])\n",
    "print(w)\n"
   ]
  },
  {
   "cell_type": "code",
   "execution_count": 72,
   "id": "5bcad00b-7fa5-47f1-9cf6-db20528ad153",
   "metadata": {},
   "outputs": [
    {
     "name": "stdout",
     "output_type": "stream",
     "text": [
      "[1 2 3]\n"
     ]
    },
    {
     "data": {
      "text/plain": [
       "array([[1],\n",
       "       [2],\n",
       "       [3]])"
      ]
     },
     "execution_count": 72,
     "metadata": {},
     "output_type": "execute_result"
    }
   ],
   "source": [
    "\n",
    "#6: Create z array contains the numbers from 1 to 3.\n",
    "\n",
    "z=np.arange(1,4)\n",
    "print(z)\n",
    "z.reshape(3, 1)"
   ]
  },
  {
   "cell_type": "code",
   "execution_count": 76,
   "id": "5ea4c0f9-c23c-48b9-b396-d3bede5599b1",
   "metadata": {},
   "outputs": [
    {
     "name": "stdout",
     "output_type": "stream",
     "text": [
      "[[ 1 11 12]\n",
      " [ 2 13 14]\n",
      " [ 3 15 16]]\n"
     ]
    }
   ],
   "source": [
    "#7: Combine the arrays z and w in vertical way then save it in a new variable \"newArray\".\n",
    "newArray=np.column_stack((z, w))\n"
   ]
  },
  {
   "cell_type": "code",
   "execution_count": 77,
   "id": "5ffaaadc-4349-441d-8bad-4fa3069f05fd",
   "metadata": {},
   "outputs": [
    {
     "name": "stdout",
     "output_type": "stream",
     "text": [
      "1\n",
      "11\n",
      "12\n",
      "2\n",
      "13\n",
      "14\n",
      "3\n",
      "15\n",
      "16\n"
     ]
    }
   ],
   "source": [
    "#8: Print all elements of \"newArray\" using the loop.\n",
    "for row in newArray :\n",
    "    for item in row:\n",
    "        print(item)"
   ]
  },
  {
   "cell_type": "code",
   "execution_count": 113,
   "id": "9e328f1c-f169-4564-9200-7c0de590f01b",
   "metadata": {},
   "outputs": [
    {
     "data": {
      "text/plain": [
       "array([9])"
      ]
     },
     "execution_count": 113,
     "metadata": {},
     "output_type": "execute_result"
    }
   ],
   "source": [
    "#9 Reverse the columns and rows of \"newArray\"\n",
    "np.transpose(newArray)\n"
   ]
  },
  {
   "cell_type": "code",
   "execution_count": 81,
   "id": "ad2e2327-cc26-4e5f-92cd-38f7bea2fa0a",
   "metadata": {},
   "outputs": [
    {
     "data": {
      "text/plain": [
       "array([[ 0, 10, 11],\n",
       "       [ 1, 12, 13],\n",
       "       [ 2, 14, 15]])"
      ]
     },
     "execution_count": 81,
     "metadata": {},
     "output_type": "execute_result"
    }
   ],
   "source": [
    "#10: Decrement all elements of \"newArray\" with 1.\n",
    "np.subtract(newArray,1)"
   ]
  },
  {
   "cell_type": "code",
   "execution_count": 85,
   "id": "cdf76ee2-d285-4ec2-a3a4-cd7c4f0f6c00",
   "metadata": {},
   "outputs": [
    {
     "data": {
      "text/plain": [
       "16"
      ]
     },
     "execution_count": 85,
     "metadata": {},
     "output_type": "execute_result"
    }
   ],
   "source": [
    "#11: Find smallest and biggest values in \"newArray\".\n",
    "newArray.min()\n",
    "newArray.max()"
   ]
  },
  {
   "cell_type": "code",
   "execution_count": 93,
   "id": "3f8f679e-7857-4d6f-a8a1-9745575e6397",
   "metadata": {},
   "outputs": [
    {
     "name": "stdout",
     "output_type": "stream",
     "text": [
      "[ 1 11 12]\n"
     ]
    }
   ],
   "source": [
    "#12: Print the first row of \"newArray\" using indexing.\n",
    "print(newArray[0])"
   ]
  },
  {
   "cell_type": "code",
   "execution_count": 95,
   "id": "313ab043-ba1e-41c7-8e75-a59ef83ff8e7",
   "metadata": {},
   "outputs": [
    {
     "name": "stdout",
     "output_type": "stream",
     "text": [
      "12\n"
     ]
    }
   ],
   "source": [
    "#13: Print the number equals 12 of \"newArray\" using indexing.\n",
    "print(newArray[0,2])"
   ]
  },
  {
   "cell_type": "code",
   "execution_count": 110,
   "id": "993c36e6-c8b9-485b-beb4-5db8b5c95a1a",
   "metadata": {},
   "outputs": [
    {
     "name": "stdout",
     "output_type": "stream",
     "text": [
      "[]\n"
     ]
    }
   ],
   "source": [
    "#14: Print the numbers equal 0 and 13 of \"newArray\" using Slicing.\n",
    "print(newArray[np.where((newArray == 13) | (newArray == 0))])"
   ]
  },
  {
   "cell_type": "code",
   "execution_count": 107,
   "id": "3f1c6d4a-fe1b-4ac5-91ba-cc1c36be223f",
   "metadata": {
    "tags": []
   },
   "outputs": [
    {
     "name": "stdout",
     "output_type": "stream",
     "text": [
      "[9]\n"
     ]
    }
   ],
   "source": [
    "#15: Change the shape of \"newArray\" to (9,1)\n",
    "newArray=np.reshape(9,1)\n",
    "\n"
   ]
  },
  {
   "cell_type": "code",
   "execution_count": 104,
   "id": "b103fe13-9498-4187-a900-b53c1a95255f",
   "metadata": {},
   "outputs": [],
   "source": [
    "#16: Change the shape of \"newArray\" to (3,2).\n",
    "'Eroor"
   ]
  },
  {
   "cell_type": "code",
   "execution_count": null,
   "id": "8ea950c7-0133-41b3-a082-13802603c4e0",
   "metadata": {},
   "outputs": [],
   "source": []
  }
 ],
 "metadata": {
  "kernelspec": {
   "display_name": "Python 3 (ipykernel)",
   "language": "python",
   "name": "python3"
  },
  "language_info": {
   "codemirror_mode": {
    "name": "ipython",
    "version": 3
   },
   "file_extension": ".py",
   "mimetype": "text/x-python",
   "name": "python",
   "nbconvert_exporter": "python",
   "pygments_lexer": "ipython3",
   "version": "3.9.13"
  }
 },
 "nbformat": 4,
 "nbformat_minor": 5
}
